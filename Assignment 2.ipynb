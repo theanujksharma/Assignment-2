{
 "cells": [
  {
   "cell_type": "code",
   "execution_count": 14,
   "id": "9efb0fe8-f33b-46c7-925f-8e59e15dd7b2",
   "metadata": {},
   "outputs": [],
   "source": [
    "#1. def keyword is used to create a function\n",
    "#function to return a list of odd numbers from 1 to 25\n",
    "def odd():\n",
    "    l=[]\n",
    "    for i in range(1,26):\n",
    "        if i%2!=0:\n",
    "            l.append(i)\n",
    "    return l\n",
    "    "
   ]
  },
  {
   "cell_type": "code",
   "execution_count": 15,
   "id": "9d41e945-26c9-4e9e-aed0-3168e21a54f4",
   "metadata": {},
   "outputs": [],
   "source": [
    "odd_num=odd()"
   ]
  },
  {
   "cell_type": "code",
   "execution_count": 16,
   "id": "5a445977-8d91-495e-bb78-0ec6a572b48e",
   "metadata": {},
   "outputs": [
    {
     "name": "stdout",
     "output_type": "stream",
     "text": [
      "[1, 3, 5, 7, 9, 11, 13, 15, 17, 19, 21, 23, 25]\n"
     ]
    }
   ],
   "source": [
    "print(odd_num)"
   ]
  },
  {
   "cell_type": "code",
   "execution_count": 17,
   "id": "3908b29c-6034-4273-88b8-f70a4406b64c",
   "metadata": {},
   "outputs": [],
   "source": [
    "#2.The *args syntax is used to pass a variable number of arguments to a function.\n",
    "def test(*args):\n",
    "    for i in args:\n",
    "        print(i)"
   ]
  },
  {
   "cell_type": "code",
   "execution_count": 18,
   "id": "72a6f2d0-52ca-4bd6-a1c9-f55bf651e96a",
   "metadata": {},
   "outputs": [
    {
     "name": "stdout",
     "output_type": "stream",
     "text": [
      "1\n",
      "45.6\n",
      "anuj\n"
     ]
    }
   ],
   "source": [
    "test(1,45.6,\"anuj\")"
   ]
  },
  {
   "cell_type": "code",
   "execution_count": 19,
   "id": "e2ae2e82-a9ae-4aa5-8517-57e16f54c970",
   "metadata": {},
   "outputs": [],
   "source": [
    "#The **kwargs syntax is used to pass a variable number of keyword arguments to a function."
   ]
  },
  {
   "cell_type": "code",
   "execution_count": 24,
   "id": "394430f1-5048-4f80-b297-00474224b030",
   "metadata": {},
   "outputs": [],
   "source": [
    "#example of **kwargs\n",
    "def test1(**kwargs):\n",
    "    return(kwargs)\n",
    "            "
   ]
  },
  {
   "cell_type": "code",
   "execution_count": 26,
   "id": "760539ca-85fc-49f5-845f-c6f0cb25a371",
   "metadata": {},
   "outputs": [
    {
     "data": {
      "text/plain": [
       "{'number': 45, 'alpha': 'abc'}"
      ]
     },
     "execution_count": 26,
     "metadata": {},
     "output_type": "execute_result"
    }
   ],
   "source": [
    "test1(number=45,alpha=\"abc\")"
   ]
  },
  {
   "cell_type": "code",
   "execution_count": 28,
   "id": "2e32d320-3976-4a50-837f-2478bb606f53",
   "metadata": {},
   "outputs": [
    {
     "data": {
      "text/plain": [
       "'3.In Python, an iterator is an object that allows you to\\ntraverse (iterate over) the elements of a collection or sequence, \\nsuch as a list, tuple, or dictionary.Iterators provide a way to access the elements of \\na collection without exposing the underlying data structure or its implementation \\ndetails. They also allow for efficient traversal of large data sets, as they only \\nload and process one element at a time, rather than loading the entire data set into \\nmemory at once.'"
      ]
     },
     "execution_count": 28,
     "metadata": {},
     "output_type": "execute_result"
    }
   ],
   "source": [
    "\"\"\"3.In Python, an iterator is an object that allows you to\n",
    "traverse (iterate over) the elements of a collection or sequence, \n",
    "such as a list, tuple, or dictionary.Iterators provide a way to access the elements of \n",
    "a collection without exposing the underlying data structure or its implementation \n",
    "details. They also allow for efficient traversal of large data sets, as they only \n",
    "load and process one element at a time, rather than loading the entire data set into \n",
    "memory at once.\"\"\""
   ]
  },
  {
   "cell_type": "code",
   "execution_count": 29,
   "id": "944b7b7c-f54a-4554-bba1-acb3137bbbe7",
   "metadata": {},
   "outputs": [],
   "source": [
    "#iter() is used for initiation of an iteration. next() is used to iterate."
   ]
  },
  {
   "cell_type": "code",
   "execution_count": 2,
   "id": "ead25ef9-1754-4094-b2d4-29f09d12d633",
   "metadata": {},
   "outputs": [],
   "source": [
    "l=[2, 4, 6, 8, 10, 12, 14, 16, 18, 20]"
   ]
  },
  {
   "cell_type": "code",
   "execution_count": 3,
   "id": "86ffe9bc-f728-48f6-9159-e15c9a66a2d4",
   "metadata": {},
   "outputs": [],
   "source": [
    "first_five=iter(l)"
   ]
  },
  {
   "cell_type": "code",
   "execution_count": 4,
   "id": "2a4b3f06-4e31-475d-8828-43fea47bd0b0",
   "metadata": {},
   "outputs": [
    {
     "data": {
      "text/plain": [
       "2"
      ]
     },
     "execution_count": 4,
     "metadata": {},
     "output_type": "execute_result"
    }
   ],
   "source": [
    "next(first_five)"
   ]
  },
  {
   "cell_type": "code",
   "execution_count": 5,
   "id": "7870990f-e6a9-4318-96ad-d2de16c2bd29",
   "metadata": {},
   "outputs": [
    {
     "data": {
      "text/plain": [
       "4"
      ]
     },
     "execution_count": 5,
     "metadata": {},
     "output_type": "execute_result"
    }
   ],
   "source": [
    "next(first_five)"
   ]
  },
  {
   "cell_type": "code",
   "execution_count": 6,
   "id": "60288129-82fa-4e74-be6f-395cf75a2746",
   "metadata": {},
   "outputs": [
    {
     "data": {
      "text/plain": [
       "6"
      ]
     },
     "execution_count": 6,
     "metadata": {},
     "output_type": "execute_result"
    }
   ],
   "source": [
    "next(first_five)"
   ]
  },
  {
   "cell_type": "code",
   "execution_count": 7,
   "id": "141f02a9-783f-4329-bcf1-ca263587f7af",
   "metadata": {},
   "outputs": [
    {
     "data": {
      "text/plain": [
       "8"
      ]
     },
     "execution_count": 7,
     "metadata": {},
     "output_type": "execute_result"
    }
   ],
   "source": [
    "next(first_five)"
   ]
  },
  {
   "cell_type": "code",
   "execution_count": 8,
   "id": "3f7e9497-f5ae-48c4-a1a2-63726a0c99d5",
   "metadata": {},
   "outputs": [
    {
     "data": {
      "text/plain": [
       "10"
      ]
     },
     "execution_count": 8,
     "metadata": {},
     "output_type": "execute_result"
    }
   ],
   "source": [
    "next(first_five)"
   ]
  },
  {
   "cell_type": "code",
   "execution_count": 9,
   "id": "25768435-ab98-482a-97e4-01483dcc11bf",
   "metadata": {},
   "outputs": [
    {
     "data": {
      "text/plain": [
       "'4. In python, a generator function is a special type of functioon that returns an \\niterator, which can be used to generate a series of values on-the-fly. Unlike regular \\nfunctions that return a value and then exit, a generator function can pause execution\\nand then resume it later, allowing it to generate a sequence of values incrementally.'"
      ]
     },
     "execution_count": 9,
     "metadata": {},
     "output_type": "execute_result"
    }
   ],
   "source": [
    "\"\"\"4. In python, a generator function is a special type of functioon that returns an \n",
    "iterator, which can be used to generate a series of values on-the-fly. Unlike regular \n",
    "functions that return a value and then exit, a generator function can pause execution\n",
    "and then resume it later, allowing it to generate a sequence of values incrementally.\"\"\""
   ]
  },
  {
   "cell_type": "code",
   "execution_count": 26,
   "id": "c3d98b73-d5b7-4c61-8415-fbac2a21a0ab",
   "metadata": {},
   "outputs": [],
   "source": [
    "#example of generator function\n",
    "def fibonacci(n):\n",
    "    a,b=0,1\n",
    "    for i in range(n):\n",
    "        yield a\n",
    "        a,b=b,a+b"
   ]
  },
  {
   "cell_type": "code",
   "execution_count": 27,
   "id": "38c5fe19-52df-4c72-8fd1-7009f0c7d9bb",
   "metadata": {},
   "outputs": [],
   "source": [
    "fib=fibonacci(10)"
   ]
  },
  {
   "cell_type": "code",
   "execution_count": 28,
   "id": "39dede91-6fdc-4608-baf7-011a606f9494",
   "metadata": {},
   "outputs": [
    {
     "name": "stdout",
     "output_type": "stream",
     "text": [
      "0\n"
     ]
    }
   ],
   "source": [
    "print(next(fib))"
   ]
  },
  {
   "cell_type": "code",
   "execution_count": 29,
   "id": "4e7ca11f-fdf1-4363-a295-cb7ceccd7141",
   "metadata": {},
   "outputs": [
    {
     "name": "stdout",
     "output_type": "stream",
     "text": [
      "1\n"
     ]
    }
   ],
   "source": [
    "print(next(fib))"
   ]
  },
  {
   "cell_type": "code",
   "execution_count": 30,
   "id": "8cbef880-b600-44d8-9932-f03d9e3b44a1",
   "metadata": {},
   "outputs": [
    {
     "name": "stdout",
     "output_type": "stream",
     "text": [
      "1\n"
     ]
    }
   ],
   "source": [
    "print(next(fib))"
   ]
  },
  {
   "cell_type": "code",
   "execution_count": 31,
   "id": "68d9d796-aa53-4d58-8cbe-f36f1f750120",
   "metadata": {},
   "outputs": [
    {
     "name": "stdout",
     "output_type": "stream",
     "text": [
      "2\n"
     ]
    }
   ],
   "source": [
    "print(next(fib))"
   ]
  },
  {
   "cell_type": "code",
   "execution_count": 34,
   "id": "9342f7b7-c304-4094-bb85-e4e1303798bc",
   "metadata": {},
   "outputs": [
    {
     "name": "stdout",
     "output_type": "stream",
     "text": [
      "0\n",
      "1\n",
      "1\n",
      "2\n",
      "3\n",
      "5\n",
      "8\n",
      "13\n",
      "21\n",
      "34\n"
     ]
    }
   ],
   "source": [
    "#6. first then fibonacci numbers using while loop\n",
    "a=0\n",
    "b=1\n",
    "n=1\n",
    "while n <=10:\n",
    "    print(a)\n",
    "    a,b=b,a+b\n",
    "    n=n+1"
   ]
  },
  {
   "cell_type": "code",
   "execution_count": 35,
   "id": "b092f171-54b9-4eea-9d77-66d493f1b595",
   "metadata": {},
   "outputs": [
    {
     "data": {
      "text/plain": [
       "['p', 'w', 's', 'k', 'i', 'l', 'l', 's']"
      ]
     },
     "execution_count": 35,
     "metadata": {},
     "output_type": "execute_result"
    }
   ],
   "source": [
    "#7.comprehension to iterate pwskills\n",
    "s=\"pwskills\"\n",
    "list([i for i in s])"
   ]
  },
  {
   "cell_type": "code",
   "execution_count": 1,
   "id": "53d79ed5-a248-494a-8bc7-894071a5d6fe",
   "metadata": {},
   "outputs": [
    {
     "name": "stdin",
     "output_type": "stream",
     "text": [
      "Enter a number:  90\n"
     ]
    },
    {
     "name": "stdout",
     "output_type": "stream",
     "text": [
      "90 is not a palindrome number\n"
     ]
    }
   ],
   "source": [
    "#8.palindrome using while loop\n",
    "num = int(input(\"Enter a number: \"))\n",
    "temp = num\n",
    "rev = 0\n",
    "\n",
    "while temp > 0:\n",
    "    digit = temp % 10\n",
    "    rev = rev * 10 + digit\n",
    "    temp //= 10\n",
    "\n",
    "if num == rev:\n",
    "    print(num, \"is a palindrome number\")\n",
    "else:\n",
    "    print(num, \"is not a palindrome number\")\n"
   ]
  },
  {
   "cell_type": "code",
   "execution_count": 3,
   "id": "53954f12-425a-4105-8dc9-db876ad179c2",
   "metadata": {},
   "outputs": [
    {
     "name": "stdout",
     "output_type": "stream",
     "text": [
      "[1, 3, 5, 7, 9, 11, 13, 15, 17, 19, 21, 23, 25, 27, 29, 31, 33, 35, 37, 39, 41, 43, 45, 47, 49, 51, 53, 55, 57, 59, 61, 63, 65, 67, 69, 71, 73, 75, 77, 79, 81, 83, 85, 87, 89, 91, 93, 95, 97, 99]\n"
     ]
    }
   ],
   "source": [
    "#9. odd numbers from 1 to 100 using comprehensions\n",
    "l=[]\n",
    "for i in range(1,101):\n",
    "    l.append(i)\n",
    "l1=[]\n",
    "for j in l:\n",
    "    if j%2!=0:\n",
    "        l1.append(j)\n",
    "print(l1)"
   ]
  },
  {
   "cell_type": "code",
   "execution_count": null,
   "id": "f9da691c-4cfb-4de8-b00a-a3e222cd72df",
   "metadata": {},
   "outputs": [],
   "source": []
  }
 ],
 "metadata": {
  "kernelspec": {
   "display_name": "Python 3 (ipykernel)",
   "language": "python",
   "name": "python3"
  },
  "language_info": {
   "codemirror_mode": {
    "name": "ipython",
    "version": 3
   },
   "file_extension": ".py",
   "mimetype": "text/x-python",
   "name": "python",
   "nbconvert_exporter": "python",
   "pygments_lexer": "ipython3",
   "version": "3.10.8"
  }
 },
 "nbformat": 4,
 "nbformat_minor": 5
}
